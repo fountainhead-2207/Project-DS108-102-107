{
 "cells": [
  {
   "cell_type": "code",
   "execution_count": null,
   "id": "aa6ab9ea",
   "metadata": {},
   "outputs": [],
   "source": [
    "import os\n",
    "import json\n",
    "\n",
    "# Đường dẫn tới thư mục chứa các file json\n",
    "folder_path = 'Finish'\n",
    "output_file = 'all_labeled.json'\n",
    "\n",
    "all_data = []\n",
    "\n",
    "# Lặp qua tất cả các file trong thư mục\n",
    "for filename in os.listdir(folder_path):\n",
    "    if filename.endswith('.json'):\n",
    "        file_path = os.path.join(folder_path, filename)\n",
    "        with open(file_path, 'r', encoding='utf-8') as f:\n",
    "            data = json.load(f)\n",
    "            if isinstance(data, list):\n",
    "                all_data.extend(data)\n",
    "            else:\n",
    "                all_data.append(data)\n",
    "\n",
    "# Ghi dữ liệu hợp nhất vào file mới\n",
    "with open(output_file, 'w', encoding='utf-8') as f:\n",
    "    json.dump(all_data, f, ensure_ascii=False, indent=2)"
   ]
  }
 ],
 "metadata": {
  "language_info": {
   "name": "python"
  }
 },
 "nbformat": 4,
 "nbformat_minor": 5
}
