{
 "cells": [
  {
   "cell_type": "code",
   "execution_count": null,
   "id": "b1960141",
   "metadata": {},
   "outputs": [
    {
     "name": "stdout",
     "output_type": "stream",
     "text": [
      "Đã chia xong thành 3 file bằng nhau.\n",
      "Duyet.json: 754 samples\n",
      "Cuong.json: 754 samples\n",
      "Vuong.json: 754 samples\n"
     ]
    }
   ],
   "source": [
    "import json\n",
    "import os\n",
    "\n",
    "# Đường dẫn file gốc và thư mục lưu\n",
    "raw_path = \"Raw/manual.json\"\n",
    "save_dir = \"Raw\"\n",
    "with open(raw_path, \"r\", encoding=\"utf-8\") as f:\n",
    "    data = json.load(f)\n",
    "\n",
    "n = len(data)\n",
    "size = n // 3\n",
    "files = [\n",
    "    (\"Duyet.json\", data[:size]),\n",
    "    (\"Cuong.json\", data[size:2*size]),\n",
    "    (\"Vuong.json\", data[2*size:])\n",
    "]\n",
    "for fname, items in files:\n",
    "    with open(os.path.join(save_dir, fname), \"w\", encoding=\"utf-8\") as f:\n",
    "        json.dump(items, f, ensure_ascii=False, indent=2)\n",
    "print(\"Đã chia xong thành 3 file bằng nhau.\")\n",
    "\n",
    "# Kiểm tra số lượng sample trong 3 file đã chia\n",
    "for fname in [\"Duyet.json\", \"Cuong.json\", \"Vuong.json\"]:\n",
    "    path = os.path.join(save_dir, fname)\n",
    "    with open(path, \"r\", encoding=\"utf-8\") as f:\n",
    "        items = json.load(f)\n",
    "    print(f\"{fname}: {len(items)} samples\")"
   ]
  },
  {
   "cell_type": "code",
   "execution_count": 16,
   "id": "1ee418d7",
   "metadata": {},
   "outputs": [
    {
     "name": "stdout",
     "output_type": "stream",
     "text": [
      "Số lượng sample trong Raw/manual.json: 754\n"
     ]
    }
   ],
   "source": [
    "raw_path = \"Raw/Duyet.json\"\n",
    "with open(raw_path, \"r\", encoding=\"utf-8\") as f:\n",
    "    manual_data = json.load(f)\n",
    "print(f\"Số lượng sample trong Raw/manual.json: {len(manual_data)}\")"
   ]
  }
 ],
 "metadata": {
  "kernelspec": {
   "display_name": "base",
   "language": "python",
   "name": "python3"
  },
  "language_info": {
   "codemirror_mode": {
    "name": "ipython",
    "version": 3
   },
   "file_extension": ".py",
   "mimetype": "text/x-python",
   "name": "python",
   "nbconvert_exporter": "python",
   "pygments_lexer": "ipython3",
   "version": "3.12.7"
  }
 },
 "nbformat": 4,
 "nbformat_minor": 5
}
