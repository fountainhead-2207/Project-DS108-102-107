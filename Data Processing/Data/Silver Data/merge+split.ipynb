{
 "cells": [
  {
   "cell_type": "markdown",
   "id": "d482f588",
   "metadata": {},
   "source": [
    "Merge data\n"
   ]
  },
  {
   "cell_type": "code",
   "execution_count": 3,
   "id": "35ea2310",
   "metadata": {},
   "outputs": [],
   "source": [
    "\n",
    "import pandas as pd\n",
    "import glob\n",
    "import os\n",
    "import json\n",
    "\n",
    "# Đường dẫn tới thư mục chứa các file json đã làm sạch\n",
    "folder_path = 'Clean_reviews'\n",
    "\n",
    "# Lấy danh sách tất cả các file json trong thư mục\n",
    "file_list = glob.glob(os.path.join(folder_path, '*.json'))\n",
    "dfs = []\n",
    "for file in file_list:\n",
    "    # Đọc dữ liệu từ file json\n",
    "    with open(file, 'r', encoding='utf-8') as f:\n",
    "        data = json.load(f)\n",
    "    df = pd.DataFrame(data)\n",
    "    # Thêm cột product_category dựa trên tên file\n",
    "    filename = os.path.basename(file)\n",
    "    # Lấy phần giữa 'tiki_reviews_' và '_cleaned.json'\n",
    "    # Lấy category từ tên file, ví dụ: tiki_reviews_electronics_cleaned.json -> electronics\n",
    "    parts = filename.replace('.json', '').split('_')\n",
    "    if len(parts) >= 3:\n",
    "        category = '_'.join(parts[2:-1])  # lấy tất cả phần giữa 'tiki_reviews_' và '_cleaned'\n",
    "    else:\n",
    "        category = 'unknown'\n",
    "    df['product_category'] = category\n",
    "\n",
    "    # Thay thế các trường images rỗng ([]) thành [\"\"] trong DataFrame\n",
    "    if 'images' in df.columns:\n",
    "        df['images'] = df['images'].apply(lambda x: [\"\"] if isinstance(x, list) and len(x) == 0 else x)\n",
    "\n",
    "    dfs.append(df)\n",
    "\n",
    "if len(dfs) == 0:\n",
    "    raise ValueError(\"Không tìm thấy file JSON nào trong thư mục hoặc dữ liệu rỗng!\")\n",
    "\n",
    "# Gộp tất cả các dataframe lại thành một dataframe lớn\n",
    "big_df = pd.concat(dfs, ignore_index=True)\n",
    "\n",
    "# Đảm bảo thư mục tồn tại trước khi lưu file\n",
    "os.makedirs('Data Processing/Data/Silver Data', exist_ok=True)\n",
    "# Lưu ra file mới\n",
    "big_df.to_json('all_reviews_with_category.json', orient='records', force_ascii=False)\n"
   ]
  },
  {
   "cell_type": "markdown",
   "id": "61f4695b",
   "metadata": {},
   "source": [
    "Split"
   ]
  },
  {
   "cell_type": "code",
   "execution_count": 4,
   "id": "f6e3448a",
   "metadata": {},
   "outputs": [],
   "source": [
    "import pandas as pd\n",
    "import numpy as np\n",
    "from sklearn.model_selection import train_test_split\n",
    "import os\n",
    "\n",
    "# Đọc dữ liệu từ file JSON đã lưu\n",
    "df = pd.read_json('all_reviews_with_category.json', orient='records')   \n",
    "\n",
    "# Chia 15% (train+test) và 85% (unsupervised)\n",
    "df_supervised, df_unsupervised = train_test_split(df, test_size=0.85, random_state=42, shuffle=True)\n",
    "\n",
    "# Tạo thư mục Manual_label_data nếu chưa có\n",
    "os.makedirs('Manual_label_data', exist_ok=True)\n",
    "\n",
    "# df_supervised là 15%, df_unsupervised là 85%\n",
    "# Lưu manual.json vào Manual_label_data\n",
    "df_supervised.to_json('Manual_label_data/manual.json', orient='records', force_ascii=False)\n",
    "df_unsupervised.to_json('unsupervised.json', orient='records', force_ascii=False)\n",
    "\n",
    "# Chia manual thành 80% train và 20% test\n",
    "manual_df = pd.read_json('Manual_label_data/manual.json', orient='records')\n",
    "train_df, test_df = train_test_split(manual_df, test_size=0.2, random_state=42, shuffle=True)\n",
    "\n",
    "# Lưu train.json và test.json vào Manual_label_data\n",
    "train_df.to_json('Manual_label_data/train.json', orient='records', force_ascii=False)\n",
    "test_df.to_json('Manual_label_data/test.json', orient='records', force_ascii=False)\n",
    "\n",
    "# Copy 210 sample từ test vào guideline_sample, chia làm 3 file\n",
    "guideline_samples = test_df.sample(n=210, random_state=42)\n",
    "os.makedirs('guideline_sample', exist_ok=True)\n",
    "for i in range(3):\n",
    "    start = i * 70\n",
    "    end = (i + 1) * 70\n",
    "    part = guideline_samples.iloc[start:end]\n",
    "    part.to_json(f'guideline_sample/guideline_sample_{i+1}.json', orient='records', force_ascii=False)"
   ]
  }
 ],
 "metadata": {
  "kernelspec": {
   "display_name": "base",
   "language": "python",
   "name": "python3"
  },
  "language_info": {
   "codemirror_mode": {
    "name": "ipython",
    "version": 3
   },
   "file_extension": ".py",
   "mimetype": "text/x-python",
   "name": "python",
   "nbconvert_exporter": "python",
   "pygments_lexer": "ipython3",
   "version": "3.12.7"
  }
 },
 "nbformat": 4,
 "nbformat_minor": 5
}
