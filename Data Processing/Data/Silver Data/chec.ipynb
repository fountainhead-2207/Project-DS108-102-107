{
 "cells": [
  {
   "cell_type": "code",
   "execution_count": 14,
   "id": "b140bee6",
   "metadata": {},
   "outputs": [
    {
     "data": {
      "text/plain": [
       "(18091, 11)"
      ]
     },
     "execution_count": 14,
     "metadata": {},
     "output_type": "execute_result"
    }
   ],
   "source": [
    "import pandas as pd\n",
    "# Đọc dữ liệu từ file JSON đã lưu\n",
    "df = pd.read_json('Clean_reviews/all_reviews_with_category.json', orient='records')\n",
    "df.shape"
   ]
  },
  {
   "cell_type": "code",
   "execution_count": 10,
   "id": "98f0934b",
   "metadata": {},
   "outputs": [
    {
     "name": "stdout",
     "output_type": "stream",
     "text": [
      "Tổng số hàng trong tất cả các file: 18091\n"
     ]
    }
   ],
   "source": [
    "import os\n",
    "import pandas as pd\n",
    "\n",
    "folder_path = 'Clean_reviews'\n",
    "total_rows = 0\n",
    "\n",
    "for filename in os.listdir(folder_path):\n",
    "    if filename.endswith('.json'):\n",
    "        file_path = os.path.join(folder_path, filename)\n",
    "        df = pd.read_json(file_path)\n",
    "        total_rows += len(df)\n",
    "\n",
    "print(f\"Tổng số hàng trong tất cả các file: {total_rows}\")"
   ]
  }
 ],
 "metadata": {
  "kernelspec": {
   "display_name": "base",
   "language": "python",
   "name": "python3"
  },
  "language_info": {
   "codemirror_mode": {
    "name": "ipython",
    "version": 3
   },
   "file_extension": ".py",
   "mimetype": "text/x-python",
   "name": "python",
   "nbconvert_exporter": "python",
   "pygments_lexer": "ipython3",
   "version": "3.12.7"
  }
 },
 "nbformat": 4,
 "nbformat_minor": 5
}
