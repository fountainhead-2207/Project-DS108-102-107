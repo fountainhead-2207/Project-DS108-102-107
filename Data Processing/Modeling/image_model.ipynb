{
 "cells": [
  {
   "cell_type": "markdown",
   "metadata": {},
   "source": [
    "#1. Tải và tiền xử lý dữ liệu ban đầu"
   ]
  },
  {
   "cell_type": "code",
   "execution_count": 1,
   "metadata": {},
   "outputs": [
    {
     "name": "stdout",
     "output_type": "stream",
     "text": [
      "Data extraction and DataFrame creation complete. Checking Image_helpfulness values:\n",
      "    id         user_name rating  \\\n",
      "0  211         Mint Mint      5   \n",
      "1  212  Nguyễn Bích Hạnh      5   \n",
      "2  213           Lan Anh      5   \n",
      "3  214          Tâm Châu      1   \n",
      "4  215           Bé Tuấn      2   \n",
      "\n",
      "                                             comment  \\\n",
      "0                          giao hàng nhanh và hsd xa   \n",
      "1  Truyện rất hay mình bàng hoàng nhận ra tác giả...   \n",
      "2  Sản phẩm chất lượng tốt tiện lợi giá cả hợp lý...   \n",
      "3   Giao hàng nhanh nhưng máy kêu rất to như máy cày   \n",
      "4  giao hàng nhanh nhưng mà sách lại bị ố vàng ng...   \n",
      "\n",
      "                                              images     created_at  \\\n",
      "0  [https://salt.tikicdn.com/ts/review/8f/d2/cf/0...  1640476800000   \n",
      "1                                                 []  1625097600000   \n",
      "2                                                 []  1661126400000   \n",
      "3                                                 []  1649894400000   \n",
      "4  [https://salt.tikicdn.com/ts/review/6f/f6/8d/4...  1653177600000   \n",
      "\n",
      "  thank_count product_id                                       product_name  \\\n",
      "0           0    2454325  Thùng 48 Hộp Sữa Uống Dutch Lady Cô Gái Hà Lan...   \n",
      "1           6   76013370                                 Được Học (Tái Bản)   \n",
      "2           0  185248203  Máy Xay Đồ Ăn Dặm Cho Bé 6 Lưỡi Cối Thuỷ Tinh ...   \n",
      "3           0   27577966  Máy Xay Sinh Tố Lock&Lock EJM462 (350W - 1.2 L...   \n",
      "4           0   16284286                  Tuổi Thơ Dữ Dội - Tập 1 (Tái Bản)   \n",
      "\n",
      "  product_url product_image Image_helpfulness Comment_helpfulness  \\\n",
      "0        None          None                 2                   3   \n",
      "1        None          None                 1                   4   \n",
      "2        None          None                 1                   3   \n",
      "3        None          None                 1                   4   \n",
      "4        None          None                 5                   4   \n",
      "\n",
      "  All_helpfulness  \n",
      "0               2  \n",
      "1               2  \n",
      "2               2  \n",
      "3               2  \n",
      "4               3  \n",
      "\n",
      "Giá trị của cột 'Image_helpfulness':\n",
      "Image_helpfulness\n",
      "1       1113\n",
      "3        446\n",
      "5        326\n",
      "2        252\n",
      "4        124\n",
      "None       1\n",
      "Name: count, dtype: int64\n",
      "Data extraction complete\n"
     ]
    }
   ],
   "source": [
    "import json\n",
    "import pandas as pd\n",
    "import torch # Bạn sẽ cần thư viện này cho phần sau của code\n",
    "from PIL import Image # Bạn sẽ cần thư viện này cho phần sau của code\n",
    "import requests # Bạn sẽ cần thư viện này cho phần sau của code\n",
    "from io import BytesIO # Bạn sẽ cần thư viện này cho phần sau của code\n",
    "\n",
    "\n",
    "# Mở tệp JSON và tải dữ liệu\n",
    "with open('all_labeled.json', 'r', encoding='utf-8') as f:\n",
    "    data = json.load(f)\n",
    "\n",
    "# Khởi tạo một DataFrame rỗng với các cột mong muốn\n",
    "df = pd.DataFrame(columns=[\n",
    "    'id', 'user_name', 'rating', 'comment', 'images', 'created_at',\n",
    "    'thank_count', 'product_id', 'product_name', 'product_url',\n",
    "    'product_image', 'Image_helpfulness', 'Comment_helpfulness', 'All_helpfulness' # Thêm các cột cho helpfulness khác nếu cần\n",
    "])\n",
    "\n",
    "# Danh sách để lưu trữ các hàng mới\n",
    "new_rows = []\n",
    "\n",
    "# Lặp qua từng mục (review) trong dữ liệu\n",
    "for item in data:\n",
    "    # Lấy thông tin cơ bản từ 'data'\n",
    "    item_data = item.get('data', {})\n",
    "    review_id = item.get('id')\n",
    "    user_name = item_data.get('user_name')\n",
    "    rating = item_data.get('rating')\n",
    "    comment = item_data.get('comment')\n",
    "    images = item_data.get('images')\n",
    "    created_at = item_data.get('created_at')\n",
    "    thank_count = item_data.get('thank_count')\n",
    "    product_id = item_data.get('product_id')\n",
    "    product_name = item_data.get('product_name')\n",
    "    product_url = item_data.get('product_url')\n",
    "    product_image = item_data.get('product_image')\n",
    "\n",
    "    # Khởi tạo các giá trị helpfulness mặc định là None cho mỗi bản ghi\n",
    "    # Nếu không tìm thấy, nó sẽ giữ giá trị None, hoặc bạn có thể đặt là 0 tùy ý\n",
    "    image_helpfulness_value = None\n",
    "    comment_helpfulness_value = None\n",
    "    all_helpfulness_value = None\n",
    "\n",
    "    # Lấy phần chú thích (annotations)\n",
    "    annotations = item.get('annotations')\n",
    "    if annotations and len(annotations) > 0:\n",
    "        results = annotations[0].get('result', [])\n",
    "        for annotation_item in results:\n",
    "            from_name = annotation_item.get('from_name')\n",
    "            value_choices = annotation_item.get('value', {}).get('choices')\n",
    "\n",
    "            if value_choices and len(value_choices) > 0:\n",
    "                extracted_value = value_choices[0]\n",
    "\n",
    "                if from_name == 'Image_helpfulness':\n",
    "                    image_helpfulness_value = extracted_value\n",
    "                elif from_name == 'Comment_helpfulness':\n",
    "                    comment_helpfulness_value = extracted_value\n",
    "                elif from_name == 'All_helpfulness':\n",
    "                    all_helpfulness_value = extracted_value\n",
    "\n",
    "    # Tạo một hàng mới với tất cả các thông tin đã trích xuất\n",
    "    new_row = {\n",
    "        'id': review_id,\n",
    "        'user_name': user_name,\n",
    "        'rating': rating,\n",
    "        'comment': comment,\n",
    "        'images': images,\n",
    "        'created_at': created_at,\n",
    "        'thank_count': thank_count,\n",
    "        'product_id': product_id,\n",
    "        'product_name': product_name,\n",
    "        'product_url': product_url,\n",
    "        'product_image': product_image,\n",
    "        'Image_helpfulness': image_helpfulness_value,\n",
    "        'Comment_helpfulness': comment_helpfulness_value,\n",
    "        'All_helpfulness': all_helpfulness_value\n",
    "    }\n",
    "    new_rows.append(new_row)\n",
    "\n",
    "# Thêm tất cả các hàng mới vào DataFrame một lần\n",
    "df = pd.concat([df, pd.DataFrame(new_rows)], ignore_index=True)\n",
    "\n",
    "print(\"Data extraction and DataFrame creation complete. Checking Image_helpfulness values:\")\n",
    "# Hiển thị vài hàng đầu của DataFrame để kiểm tra\n",
    "print(df.head())\n",
    "\n",
    "# Bạn cũng có thể kiểm tra một cột cụ thể\n",
    "print(\"\\nGiá trị của cột 'Image_helpfulness':\")\n",
    "print(df['Image_helpfulness'].value_counts(dropna=False))\n",
    "\n",
    "# Example of how you would continue with your existing code after this:\n",
    "image_paths = []\n",
    "text_data = []\n",
    "ratings = []\n",
    "\n",
    "for index, row in df.iterrows():\n",
    "    ratings.append(row['rating'])\n",
    "    text_data.append(row['comment'])\n",
    "    \n",
    "    # Lấy URL của hình ảnh đầu tiên nếu có\n",
    "    if row['images'] and isinstance(row['images'], list) and len(row['images']) > 0:\n",
    "        image_paths.append(row['images'][0])\n",
    "    else:\n",
    "        image_paths.append(None) # Trường hợp không có hình ảnh\n",
    "    \n",
    "    text_data.append(comment)\n",
    "    ratings.append(rating)\n",
    "\n",
    "print(\"Data extraction complete\")\n"
   ]
  },
  {
   "cell_type": "markdown",
   "metadata": {},
   "source": [
    "#2. Chia data train/test"
   ]
  },
  {
   "cell_type": "code",
   "execution_count": 2,
   "metadata": {},
   "outputs": [
    {
     "name": "stdout",
     "output_type": "stream",
     "text": [
      "\n",
      "Chia tập train/test hoàn tất:\n",
      "Số lượng mẫu training: 1808\n",
      "Số lượng mẫu testing: 453\n",
      "y_train (10 phần tử đầu): [1, 3, 1, 3, 5, 5, 2, 2, 5, 1]\n",
      "y_test (10 phần tử đầu): [1, 3, 2, 4, 1, 1, 1, 3, 1, 1]\n"
     ]
    }
   ],
   "source": [
    "from sklearn.model_selection import train_test_split\n",
    "\n",
    "# --- Bước 2: Chuẩn bị dữ liệu để chia train/test ---\n",
    "\n",
    "# Lấy các đặc trưng (features) và nhãn (labels) từ DataFrame 'df'\n",
    "# BẮT ĐẦU SỬA ĐỔI TẠI ĐÂY\n",
    "# Lọc bỏ các hàng có Image_helpfulness là None hoặc '0'\n",
    "df_filtered = df[df['Image_helpfulness'].notna()] # Loại bỏ các hàng có Image_helpfulness là None\n",
    "df_filtered = df_filtered[df_filtered['Image_helpfulness'] != '0'] # Loại bỏ các hàng có Image_helpfulness là '0'\n",
    "\n",
    "# Chuyển đổi nhãn Image_helpfulness sang kiểu số nguyên\n",
    "# Đảm bảo rằng tất cả các giá trị còn lại đều có thể chuyển thành int\n",
    "try:\n",
    "    y_labels = df_filtered['Image_helpfulness'].astype(int).tolist()\n",
    "except ValueError as e:\n",
    "    print(f\"Lỗi: Không thể chuyển đổi 'Image_helpfulness' sang số nguyên sau khi lọc. Kiểm tra dữ liệu của bạn. Lỗi: {e}\")\n",
    "    # Nếu vẫn còn lỗi, bạn có thể in df_filtered['Image_helpfulness'].value_counts() để xem giá trị nào không hợp lệ.\n",
    "\n",
    "\n",
    "X_comments = df_filtered['comment'].tolist()\n",
    "X_image_urls = [\n",
    "    row['images'][0] if row['images'] and isinstance(row['images'], list) and len(row['images']) > 0 else None\n",
    "    for index, row in df_filtered.iterrows() # Lặp trên df_filtered\n",
    "]\n",
    "# KẾT THÚC SỬA ĐỔI\n",
    "\n",
    "# Gộp comment và image_url lại thành một danh sách các cặp để chia đồng bộ\n",
    "X_combined = list(zip(X_comments, X_image_urls))\n",
    "\n",
    "# Đảm bảo stratify_param chỉ được dùng nếu có đủ các lớp\n",
    "stratify_param = y_labels if len(set(y_labels)) > 1 and min(pd.Series(y_labels).value_counts()) >= 2 else None\n",
    "\n",
    "\n",
    "X_train_combined, X_test_combined, y_train, y_test = train_test_split(\n",
    "    X_combined, y_labels, test_size=0.2, random_state=42, stratify=stratify_param\n",
    ")\n",
    "\n",
    "# Tách lại comment và image_url cho tập train và test\n",
    "X_train_comments, X_train_image_urls = zip(*X_train_combined)\n",
    "X_test_comments, X_test_image_urls = zip(*X_test_combined)\n",
    "\n",
    "# Chuyển đổi lại về list để dễ sử dụng\n",
    "X_train_comments = list(X_train_comments)\n",
    "X_train_image_urls = list(X_train_image_urls)\n",
    "X_test_comments = list(X_test_comments)\n",
    "X_test_image_urls = list(X_test_image_urls)\n",
    "\n",
    "\n",
    "print(f\"\\nChia tập train/test hoàn tất:\")\n",
    "print(f\"Số lượng mẫu training: {len(X_train_comments)}\")\n",
    "print(f\"Số lượng mẫu testing: {len(X_test_comments)}\")\n",
    "print(f\"y_train (10 phần tử đầu): {y_train[:10]}\")\n",
    "print(f\"y_test (10 phần tử đầu): {y_test[:10]}\")"
   ]
  },
  {
   "cell_type": "markdown",
   "metadata": {},
   "source": [
    "#3. Tiền xử lý dữ liệu hình ảnh"
   ]
  },
  {
   "cell_type": "code",
   "execution_count": 3,
   "metadata": {},
   "outputs": [
    {
     "data": {
      "application/vnd.jupyter.widget-view+json": {
       "model_id": "26bfdb0746764be4a98b42d4753a7c50",
       "version_major": 2,
       "version_minor": 0
      },
      "text/plain": [
       "tokenizer_config.json:   0%|          | 0.00/48.0 [00:00<?, ?B/s]"
      ]
     },
     "metadata": {},
     "output_type": "display_data"
    },
    {
     "name": "stderr",
     "output_type": "stream",
     "text": [
      "C:\\Users\\pc\\AppData\\Roaming\\Python\\Python313\\site-packages\\huggingface_hub\\file_download.py:143: UserWarning: `huggingface_hub` cache-system uses symlinks by default to efficiently store duplicated files but your machine does not support them in C:\\Users\\pc\\.cache\\huggingface\\hub\\models--bert-base-uncased. Caching files will still work but in a degraded version that might require more space on your disk. This warning can be disabled by setting the `HF_HUB_DISABLE_SYMLINKS_WARNING` environment variable. For more details, see https://huggingface.co/docs/huggingface_hub/how-to-cache#limitations.\n",
      "To support symlinks on Windows, you either need to activate Developer Mode or to run Python as an administrator. In order to activate developer mode, see this article: https://docs.microsoft.com/en-us/windows/apps/get-started/enable-your-device-for-development\n",
      "  warnings.warn(message)\n"
     ]
    },
    {
     "data": {
      "application/vnd.jupyter.widget-view+json": {
       "model_id": "bc5110791321409eb4607494ef73a0b2",
       "version_major": 2,
       "version_minor": 0
      },
      "text/plain": [
       "vocab.txt:   0%|          | 0.00/232k [00:00<?, ?B/s]"
      ]
     },
     "metadata": {},
     "output_type": "display_data"
    },
    {
     "data": {
      "application/vnd.jupyter.widget-view+json": {
       "model_id": "0a2bd5698f1c43aab86306e32861204e",
       "version_major": 2,
       "version_minor": 0
      },
      "text/plain": [
       "tokenizer.json:   0%|          | 0.00/466k [00:00<?, ?B/s]"
      ]
     },
     "metadata": {},
     "output_type": "display_data"
    },
    {
     "data": {
      "application/vnd.jupyter.widget-view+json": {
       "model_id": "b8fef17c0d9a4d269e28a48142a290fd",
       "version_major": 2,
       "version_minor": 0
      },
      "text/plain": [
       "config.json:   0%|          | 0.00/570 [00:00<?, ?B/s]"
      ]
     },
     "metadata": {},
     "output_type": "display_data"
    },
    {
     "name": "stderr",
     "output_type": "stream",
     "text": [
      "Xet Storage is enabled for this repo, but the 'hf_xet' package is not installed. Falling back to regular HTTP download. For better performance, install the package with: `pip install huggingface_hub[hf_xet]` or `pip install hf_xet`\n"
     ]
    },
    {
     "data": {
      "application/vnd.jupyter.widget-view+json": {
       "model_id": "9f58adc352b84276b944fb7b4bc756af",
       "version_major": 2,
       "version_minor": 0
      },
      "text/plain": [
       "model.safetensors:   0%|          | 0.00/440M [00:00<?, ?B/s]"
      ]
     },
     "metadata": {},
     "output_type": "display_data"
    },
    {
     "name": "stdout",
     "output_type": "stream",
     "text": [
      "Image and text preprocessing complete for train and test sets.\n"
     ]
    }
   ],
   "source": [
    "from transformers import BertTokenizer, BertModel\n",
    "import torchvision.transforms as transforms\n",
    "\n",
    "# Preprocessing for BERT\n",
    "tokenizer = BertTokenizer.from_pretrained('bert-base-uncased')\n",
    "bert_model = BertModel.from_pretrained('bert-base-uncased')\n",
    "\n",
    "# Preprocessing for ResNet50\n",
    "resnet_transform = transforms.Compose([\n",
    "    transforms.Resize((224, 224)),\n",
    "    transforms.ToTensor(),\n",
    "    transforms.Normalize(mean=[0.485, 0.456, 0.406], std=[0.229, 0.224, 0.225])\n",
    "])\n",
    "\n",
    "device = torch.device(\"cuda\" if torch.cuda.is_available() else \"cpu\")\n",
    "bert_model.to(device) # Đảm bảo BERT model cũng được đưa lên device\n",
    "\n",
    "# Hàm hỗ trợ xử lý hình ảnh (để tránh lặp code)\n",
    "def process_images(image_urls_list, transform_func, device):\n",
    "    image_tensors = []\n",
    "    for img_url in image_urls_list:\n",
    "        if img_url:\n",
    "            try:\n",
    "                response = requests.get(img_url, timeout=10) # Thêm timeout để tránh request bị treo\n",
    "                img = Image.open(BytesIO(response.content)).convert(\"RGB\")\n",
    "                img_tensor = transform_func(img).unsqueeze(0).to(device)\n",
    "                image_tensors.append(img_tensor)\n",
    "            except Exception as e:\n",
    "                print(f\"Lỗi khi tải hoặc xử lý ảnh từ URL: {img_url}. Lỗi: {e}\")\n",
    "                image_tensors.append(torch.zeros(1, 3, 224, 224).to(device)) # Thêm tensor rỗng nếu lỗi\n",
    "        else:\n",
    "            image_tensors.append(torch.zeros(1, 3, 224, 224).to(device)) # Placeholder cho ảnh bị thiếu\n",
    "    if not image_tensors: # Trường hợp danh sách rỗng sau khi xử lý\n",
    "        return torch.empty(0, 3, 224, 224).to(device)\n",
    "    return torch.cat(image_tensors, dim=0)\n",
    "\n",
    "\n",
    "# Convert text data to BERT inputs for train and test sets\n",
    "text_inputs_train = tokenizer(X_train_comments, padding=True, truncation=True, max_length=512, return_tensors=\"pt\").to(device)\n",
    "text_inputs_test = tokenizer(X_test_comments, padding=True, truncation=True, max_length=512, return_tensors=\"pt\").to(device)\n",
    "\n",
    "# Process the images for train and test sets\n",
    "image_tensors_train = process_images(X_train_image_urls, resnet_transform, device)\n",
    "image_tensors_test = process_images(X_test_image_urls, resnet_transform, device)\n",
    "\n",
    "print(\"Image and text preprocessing complete for train and test sets.\")"
   ]
  },
  {
   "cell_type": "markdown",
   "metadata": {},
   "source": [
    "#4. Định nghĩa mô hình Resnet50 cho Hồi quy"
   ]
  },
  {
   "cell_type": "code",
   "execution_count": 4,
   "metadata": {},
   "outputs": [
    {
     "name": "stderr",
     "output_type": "stream",
     "text": [
      "C:\\Users\\pc\\AppData\\Roaming\\Python\\Python313\\site-packages\\torchvision\\models\\_utils.py:208: UserWarning: The parameter 'pretrained' is deprecated since 0.13 and may be removed in the future, please use 'weights' instead.\n",
      "  warnings.warn(\n",
      "C:\\Users\\pc\\AppData\\Roaming\\Python\\Python313\\site-packages\\torchvision\\models\\_utils.py:223: UserWarning: Arguments other than a weight enum or `None` for 'weights' are deprecated since 0.13 and may be removed in the future. The current behavior is equivalent to passing `weights=ResNet50_Weights.IMAGENET1K_V1`. You can also use `weights=ResNet50_Weights.DEFAULT` to get the most up-to-date weights.\n",
      "  warnings.warn(msg)\n"
     ]
    },
    {
     "name": "stdout",
     "output_type": "stream",
     "text": [
      "ResNet50 model loaded and modified for regression.\n",
      "Loss function set to MSELoss for regression.\n"
     ]
    }
   ],
   "source": [
    "import torch.nn as nn\n",
    "import torchvision.models as models\n",
    "\n",
    "# Load ResNet50 model\n",
    "resnet50 = models.resnet50(pretrained=True)\n",
    "\n",
    "# Modify the last fully connected layer FOR REGRESSION (output 1 giá trị liên tục)\n",
    "resnet50.fc = nn.Linear(resnet50.fc.in_features, 1)\n",
    "\n",
    "# Move the model to the device\n",
    "device = torch.device(\"cuda\" if torch.cuda.is_available() else \"cpu\")\n",
    "resnet50 = resnet50.to(device)\n",
    "print(\"ResNet50 model loaded and modified for regression.\")\n",
    "\n",
    "# Định nghĩa hàm mất mát cho bài toán hồi quy (Mean Squared Error)\n",
    "criterion = nn.MSELoss()\n",
    "print(\"Loss function set to MSELoss for regression.\")"
   ]
  },
  {
   "cell_type": "markdown",
   "metadata": {},
   "source": [
    "#5.Huấn luyện mô hình"
   ]
  },
  {
   "cell_type": "code",
   "execution_count": 7,
   "metadata": {},
   "outputs": [
    {
     "name": "stdout",
     "output_type": "stream",
     "text": [
      "\n",
      "Bắt đầu huấn luyện mô hình ResNet50 (hồi quy)...\n",
      "Epoch 1/30, Loss: 1.2210\n",
      "Epoch 2/30, Loss: 0.3917\n",
      "Epoch 3/30, Loss: 0.2171\n",
      "Epoch 4/30, Loss: 0.1489\n",
      "Epoch 5/30, Loss: 0.1280\n",
      "Epoch 6/30, Loss: 0.1018\n",
      "Epoch 7/30, Loss: 0.1055\n",
      "Epoch 8/30, Loss: 0.0868\n",
      "Epoch 9/30, Loss: 0.0975\n",
      "Epoch 10/30, Loss: 0.0885\n",
      "Epoch 11/30, Loss: 0.0725\n",
      "Epoch 12/30, Loss: 0.0684\n",
      "Epoch 13/30, Loss: 0.0506\n",
      "Epoch 14/30, Loss: 0.0467\n",
      "Epoch 15/30, Loss: 0.0482\n",
      "Epoch 16/30, Loss: 0.0425\n",
      "Epoch 17/30, Loss: 0.0448\n",
      "Epoch 18/30, Loss: 0.0369\n",
      "Epoch 19/30, Loss: 0.0392\n",
      "Epoch 20/30, Loss: 0.0455\n",
      "Epoch 21/30, Loss: 0.0353\n",
      "Epoch 22/30, Loss: 0.0304\n",
      "Epoch 23/30, Loss: 0.0299\n",
      "Epoch 24/30, Loss: 0.0295\n",
      "Epoch 25/30, Loss: 0.0393\n",
      "Epoch 26/30, Loss: 0.0389\n",
      "Epoch 27/30, Loss: 0.0363\n",
      "Epoch 28/30, Loss: 0.0342\n",
      "Epoch 29/30, Loss: 0.0361\n",
      "Epoch 30/30, Loss: 0.0296\n",
      "ResNet50 model fine-tuned for regression.\n"
     ]
    }
   ],
   "source": [
    "import torch.optim as optim\n",
    "from torch.utils.data import DataLoader, TensorDataset\n",
    "from torch.optim.lr_scheduler import ReduceLROnPlateau # Thêm scheduler\n",
    "\n",
    "# Đảm bảo y_train và y_test là float32 cho bài toán hồi quy\n",
    "# (Không cần 0-indexed như phân loại)\n",
    "\n",
    "# Định nghĩa batch size\n",
    "batch_size = 32\n",
    "\n",
    "# Định nghĩa số lượng epochs\n",
    "num_epochs = 30 # Thử tăng số epochs để mô hình có cơ hội học tốt hơn\n",
    "\n",
    "# Tạo dataset từ tensor (chỉ dùng image_tensors_train)\n",
    "train_dataset = TensorDataset(image_tensors_train, torch.tensor(y_train, dtype=torch.float32))\n",
    "\n",
    "# Tạo DataLoader với batch size\n",
    "train_loader = DataLoader(train_dataset, batch_size=batch_size, shuffle=True)\n",
    "\n",
    "# Tạo optimizer (sử dụng Adam optimizer)\n",
    "# Áp dụng weight_decay (L2 regularization) để giảm overfit\n",
    "optimizer = optim.Adam(resnet50.parameters(), lr=0.0001, weight_decay=1e-5) # Giảm LR và thêm weight_decay\n",
    "\n",
    "# Khởi tạo Learning Rate Scheduler\n",
    "# Giảm LR khi validation loss không cải thiện sau 'patience' epoch\n",
    "# mode='min' vì chúng ta muốn giảm loss\n",
    "# factor=0.1: LR mới = LR cũ * 0.1\n",
    "# patience=5: Chờ 5 epoch không cải thiện rồi mới giảm LR\n",
    "# --- BỎ THAM SỐ 'verbose=True' TẠI ĐÂY ---\n",
    "scheduler = ReduceLROnPlateau(optimizer, mode='min', factor=0.1, patience=5)\n",
    "\n",
    "\n",
    "# Huấn luyện mô hình với DataLoader\n",
    "print(\"\\nBắt đầu huấn luyện mô hình ResNet50 (hồi quy)...\")\n",
    "for epoch in range(num_epochs):\n",
    "    resnet50.train()\n",
    "    epoch_loss = 0\n",
    "\n",
    "    for batch_images, batch_labels in train_loader:\n",
    "        # Đưa dữ liệu lên device\n",
    "        batch_images, batch_labels = batch_images.to(device), batch_labels.to(device)\n",
    "\n",
    "        # Tiến hành forward pass\n",
    "        optimizer.zero_grad() # Reset gradients\n",
    "        outputs = resnet50(batch_images) # Dự đoán từ mô hình (giờ là 1 giá trị liên tục)\n",
    "        loss = criterion(outputs.squeeze(), batch_labels) # Tính loss (vẫn squeeze cho hồi quy)\n",
    "\n",
    "        # Backpropagation\n",
    "        loss.backward() # Tính gradient\n",
    "        optimizer.step() # Cập nhật weights\n",
    "\n",
    "        epoch_loss += loss.item()\n",
    "\n",
    "    avg_epoch_loss = epoch_loss / len(train_loader)\n",
    "    # In kết quả mỗi epoch\n",
    "    print(f\"Epoch {epoch+1}/{num_epochs}, Loss: {avg_epoch_loss:.4f}\")\n",
    "\n",
    "    # Cập nhật scheduler\n",
    "    scheduler.step(avg_epoch_loss)\n",
    "\n",
    "print(\"ResNet50 model fine-tuned for regression.\")"
   ]
  },
  {
   "cell_type": "markdown",
   "metadata": {},
   "source": [
    "#6.Đánh giá mô hình"
   ]
  },
  {
   "cell_type": "code",
   "execution_count": 8,
   "metadata": {},
   "outputs": [
    {
     "name": "stdout",
     "output_type": "stream",
     "text": [
      "R² Score: 0.7253\n",
      "MSE: 0.5880\n",
      "Accuracy (derived from regression): 0.6336\n",
      "F1 Score (weighted, derived from regression): 0.6324\n"
     ]
    }
   ],
   "source": [
    "from sklearn.metrics import r2_score, mean_squared_error, accuracy_score, f1_score\n",
    "import numpy as np\n",
    "from torch.utils.data import TensorDataset, DataLoader # Để tạo DataLoader cho tập test\n",
    "\n",
    "# Tạo TensorDataset và DataLoader cho tập test (chỉ dùng image_tensors_test)\n",
    "test_dataset = TensorDataset(image_tensors_test, torch.tensor(y_test, dtype=torch.float32)) # y_test vẫn là float32\n",
    "test_loader = DataLoader(test_dataset, batch_size=batch_size, shuffle=False) # Không shuffle tập test\n",
    "\n",
    "# Evaluate the model\n",
    "resnet50.eval() # Chuyển mô hình sang chế độ đánh giá\n",
    "\n",
    "all_predictions = []\n",
    "all_true_labels = []\n",
    "\n",
    "with torch.no_grad():\n",
    "    for batch_images, batch_labels in test_loader:\n",
    "        batch_images = batch_images.to(device)\n",
    "        batch_labels = batch_labels.to(device)\n",
    "\n",
    "        outputs = resnet50(batch_images) # Dự đoán liên tục\n",
    "        all_predictions.extend(outputs.squeeze().cpu().numpy())\n",
    "        all_true_labels.extend(batch_labels.cpu().numpy())\n",
    "\n",
    "predictions = np.array(all_predictions)\n",
    "y_true = np.array(all_true_labels)\n",
    "\n",
    "\n",
    "# --- Tính toán các chỉ số cho hồi quy ---\n",
    "r2 = r2_score(y_true, predictions)\n",
    "mse = mean_squared_error(y_true, predictions)\n",
    "\n",
    "\n",
    "# --- Tính toán Accuracy và F1 Score từ kết quả hồi quy (bằng cách làm tròn) ---\n",
    "# Bước 1: Làm tròn các dự đoán về số nguyên gần nhất\n",
    "predicted_classes = np.round(predictions)\n",
    "\n",
    "# Bước 2: Đảm bảo các dự đoán nằm trong phạm vi hợp lệ của nhãn (1 đến 5)\n",
    "predicted_classes = np.clip(predicted_classes, 1, 5)\n",
    "\n",
    "# Đảm bảo y_true là số nguyên để so sánh cho Accuracy/F1\n",
    "y_true_int = y_true.astype(int)\n",
    "predicted_classes_int = predicted_classes.astype(int)\n",
    "\n",
    "\n",
    "# Tính toán Accuracy\n",
    "accuracy = accuracy_score(y_true_int, predicted_classes_int)\n",
    "\n",
    "# Tính toán F1 Score (weighted)\n",
    "f1 = f1_score(y_true_int, predicted_classes_int, average='weighted', zero_division=0) # zero_division=0 để tránh warning nếu có lớp nào đó không được dự đoán\n",
    "\n",
    "\n",
    "# In kết quả\n",
    "print(f\"R² Score: {r2:.4f}\")\n",
    "print(f\"MSE: {mse:.4f}\")\n",
    "print(f\"Accuracy (derived from regression): {accuracy:.4f}\")\n",
    "print(f\"F1 Score (weighted, derived from regression): {f1:.4f}\")"
   ]
  },
  {
   "cell_type": "code",
   "execution_count": 9,
   "metadata": {},
   "outputs": [
    {
     "data": {
      "image/png": "[encoded data removed]",
      "text/plain": [
       "<Figure size 800x600 with 2 Axes>"
      ]
     },
     "metadata": {},
     "output_type": "display_data"
    },
    {
     "name": "stdout",
     "output_type": "stream",
     "text": [
      "\n",
      "Detailed Classification Report (from rounded regression results):\n",
      "              precision    recall  f1-score   support\n",
      "\n",
      "           1       1.00      0.99      0.99       223\n",
      "           2       0.86      0.24      0.37        51\n",
      "           3       0.44      0.40      0.42        89\n",
      "           4       0.13      0.68      0.22        25\n",
      "           5       0.67      0.03      0.06        65\n",
      "\n",
      "    accuracy                           0.63       453\n",
      "   macro avg       0.62      0.47      0.41       453\n",
      "weighted avg       0.78      0.63      0.63       453\n",
      "\n"
     ]
    }
   ],
   "source": [
    "import matplotlib.pyplot as plt\n",
    "import seaborn as sns\n",
    "from sklearn.metrics import confusion_matrix\n",
    "\n",
    "# Cần các nhãn thực tế (y_true_int) và các lớp dự đoán (predicted_classes_int)\n",
    "cm = confusion_matrix(y_true_int, predicted_classes_int)\n",
    "\n",
    "# Tên các lớp (từ 1 đến 5)\n",
    "labels = [str(i) for i in range(1, 6)]\n",
    "\n",
    "plt.figure(figsize=(8, 6))\n",
    "sns.heatmap(cm, annot=True, fmt='d', cmap='Blues', xticklabels=labels, yticklabels=labels)\n",
    "plt.xlabel('Predicted Label')\n",
    "plt.ylabel('True Label')\n",
    "plt.title('Confusion Matrix for Image Helpfulness Prediction')\n",
    "plt.show()\n",
    "from sklearn.metrics import classification_report\n",
    "print(\"\\nDetailed Classification Report (from rounded regression results):\")\n",
    "print(classification_report(y_true_int, predicted_classes_int, target_names=labels, zero_division=0))"
   ]
  },
  {
   "cell_type": "code",
   "execution_count": null,
   "metadata": {},
   "outputs": [],
   "source": []
  }
 ],
 "metadata": {
  "kernelspec": {
   "display_name": "Python 3",
   "language": "python",
   "name": "python3"
  },
  "language_info": {
   "codemirror_mode": {
    "name": "ipython",
    "version": 3
   },
   "file_extension": ".py",
   "mimetype": "text/x-python",
   "name": "python",
   "nbconvert_exporter": "python",
   "pygments_lexer": "ipython3",
   "version": "3.13.2"
  }
 },
 "nbformat": 4,
 "nbformat_minor": 2
}
